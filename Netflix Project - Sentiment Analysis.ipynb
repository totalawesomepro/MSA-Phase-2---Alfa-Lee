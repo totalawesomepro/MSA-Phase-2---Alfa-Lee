{
 "cells": [
  {
   "cell_type": "code",
   "execution_count": 1,
   "metadata": {},
   "outputs": [],
   "source": [
    "import pandas as pd\n",
    "import numpy as np\n",
    "import nltk\n",
    "import re"
   ]
  },
  {
   "cell_type": "code",
   "execution_count": 2,
   "metadata": {},
   "outputs": [],
   "source": [
    "netflix_shows = pd.read_csv(\"netflix_titles_v2.csv\")\n",
    "posts = pd.read_csv(\"Netflix_Posts.csv\")\n",
    "comments = pd.read_csv(\"Netflix_Comments.csv\")"
   ]
  },
  {
   "cell_type": "markdown",
   "metadata": {},
   "source": [
    "## 1. Minor Data Preprocessing For Data Exploration"
   ]
  },
  {
   "cell_type": "markdown",
   "metadata": {},
   "source": [
    "I will be preprocessing the comments only for Initial Data Exploration (Bigrams, Wordcloud):\n",
    "* Dropping empty comments\n",
    "* Removing links\n",
    "* Removing punctuation\n",
    "* Removing \\n, \\t, etc."
   ]
  },
  {
   "cell_type": "code",
   "execution_count": 3,
   "metadata": {},
   "outputs": [
    {
     "data": {
      "text/html": [
       "<div>\n",
       "<style scoped>\n",
       "    .dataframe tbody tr th:only-of-type {\n",
       "        vertical-align: middle;\n",
       "    }\n",
       "\n",
       "    .dataframe tbody tr th {\n",
       "        vertical-align: top;\n",
       "    }\n",
       "\n",
       "    .dataframe thead th {\n",
       "        text-align: right;\n",
       "    }\n",
       "</style>\n",
       "<table border=\"1\" class=\"dataframe\">\n",
       "  <thead>\n",
       "    <tr style=\"text-align: right;\">\n",
       "      <th></th>\n",
       "      <th>Submission</th>\n",
       "      <th>Netflix_Title</th>\n",
       "      <th>Genres</th>\n",
       "      <th>Body</th>\n",
       "      <th>URL</th>\n",
       "      <th>Upvotes</th>\n",
       "      <th>Time</th>\n",
       "      <th>Key</th>\n",
       "    </tr>\n",
       "  </thead>\n",
       "  <tbody>\n",
       "    <tr>\n",
       "      <th>0</th>\n",
       "      <td>Netflix executives say the success of 'Bright'...</td>\n",
       "      <td>Bright</td>\n",
       "      <td>Action &amp; Adventure, Sci-Fi &amp; Fantasy</td>\n",
       "      <td>NaN</td>\n",
       "      <td>https://www.reddit.com/r/netflix/comments/7t2f...</td>\n",
       "      <td>6802</td>\n",
       "      <td>2018-01-26 18:11:49</td>\n",
       "      <td>0</td>\n",
       "    </tr>\n",
       "    <tr>\n",
       "      <th>1</th>\n",
       "      <td>Netflix Fires Kevin Spacey from ‘House of Cards’</td>\n",
       "      <td>House of Cards</td>\n",
       "      <td>TV Dramas, TV Thrillers</td>\n",
       "      <td>NaN</td>\n",
       "      <td>https://www.reddit.com/r/netflix/comments/7ao8...</td>\n",
       "      <td>6504</td>\n",
       "      <td>2017-11-04 15:47:43</td>\n",
       "      <td>1</td>\n",
       "    </tr>\n",
       "    <tr>\n",
       "      <th>2</th>\n",
       "      <td>Netflix has Cloverfield 3</td>\n",
       "      <td>Cloverfield</td>\n",
       "      <td>Action &amp; Adventure, Horror Movies, Sci-Fi &amp; Fa...</td>\n",
       "      <td>Edit: Streaming starts post game</td>\n",
       "      <td>https://www.reddit.com/r/netflix/comments/7vav...</td>\n",
       "      <td>5597</td>\n",
       "      <td>2018-02-05 13:23:43</td>\n",
       "      <td>2</td>\n",
       "    </tr>\n",
       "    <tr>\n",
       "      <th>3</th>\n",
       "      <td>The Witcher is Netflix's highest rated series</td>\n",
       "      <td>The Witcher</td>\n",
       "      <td>TV Action &amp; Adventure, TV Dramas, TV Mysteries</td>\n",
       "      <td>https://www.forbes.com/sites/paultassi/2019/12...</td>\n",
       "      <td>https://www.reddit.com/r/netflix/comments/eekm...</td>\n",
       "      <td>4891</td>\n",
       "      <td>2019-12-24 02:30:46</td>\n",
       "      <td>3</td>\n",
       "    </tr>\n",
       "    <tr>\n",
       "      <th>4</th>\n",
       "      <td>Netflix has won its first Oscar, for Icarus</td>\n",
       "      <td>Icarus</td>\n",
       "      <td>Documentaries, Sports Movies</td>\n",
       "      <td>NaN</td>\n",
       "      <td>https://www.reddit.com/r/netflix/comments/8238...</td>\n",
       "      <td>4632</td>\n",
       "      <td>2018-03-05 17:03:47</td>\n",
       "      <td>4</td>\n",
       "    </tr>\n",
       "  </tbody>\n",
       "</table>\n",
       "</div>"
      ],
      "text/plain": [
       "                                          Submission   Netflix_Title  \\\n",
       "0  Netflix executives say the success of 'Bright'...          Bright   \n",
       "1   Netflix Fires Kevin Spacey from ‘House of Cards’  House of Cards   \n",
       "2                          Netflix has Cloverfield 3     Cloverfield   \n",
       "3      The Witcher is Netflix's highest rated series     The Witcher   \n",
       "4        Netflix has won its first Oscar, for Icarus          Icarus   \n",
       "\n",
       "                                              Genres  \\\n",
       "0               Action & Adventure, Sci-Fi & Fantasy   \n",
       "1                            TV Dramas, TV Thrillers   \n",
       "2  Action & Adventure, Horror Movies, Sci-Fi & Fa...   \n",
       "3     TV Action & Adventure, TV Dramas, TV Mysteries   \n",
       "4                       Documentaries, Sports Movies   \n",
       "\n",
       "                                                Body  \\\n",
       "0                                                NaN   \n",
       "1                                                NaN   \n",
       "2                   Edit: Streaming starts post game   \n",
       "3  https://www.forbes.com/sites/paultassi/2019/12...   \n",
       "4                                                NaN   \n",
       "\n",
       "                                                 URL  Upvotes  \\\n",
       "0  https://www.reddit.com/r/netflix/comments/7t2f...     6802   \n",
       "1  https://www.reddit.com/r/netflix/comments/7ao8...     6504   \n",
       "2  https://www.reddit.com/r/netflix/comments/7vav...     5597   \n",
       "3  https://www.reddit.com/r/netflix/comments/eekm...     4891   \n",
       "4  https://www.reddit.com/r/netflix/comments/8238...     4632   \n",
       "\n",
       "                  Time  Key  \n",
       "0  2018-01-26 18:11:49    0  \n",
       "1  2017-11-04 15:47:43    1  \n",
       "2  2018-02-05 13:23:43    2  \n",
       "3  2019-12-24 02:30:46    3  \n",
       "4  2018-03-05 17:03:47    4  "
      ]
     },
     "execution_count": 3,
     "metadata": {},
     "output_type": "execute_result"
    }
   ],
   "source": [
    "posts.head()"
   ]
  },
  {
   "cell_type": "code",
   "execution_count": 4,
   "metadata": {},
   "outputs": [
    {
     "data": {
      "text/plain": [
       "(415, 8)"
      ]
     },
     "execution_count": 4,
     "metadata": {},
     "output_type": "execute_result"
    }
   ],
   "source": [
    "posts.shape"
   ]
  },
  {
   "cell_type": "code",
   "execution_count": 5,
   "metadata": {},
   "outputs": [
    {
     "data": {
      "text/html": [
       "<div>\n",
       "<style scoped>\n",
       "    .dataframe tbody tr th:only-of-type {\n",
       "        vertical-align: middle;\n",
       "    }\n",
       "\n",
       "    .dataframe tbody tr th {\n",
       "        vertical-align: top;\n",
       "    }\n",
       "\n",
       "    .dataframe thead th {\n",
       "        text-align: right;\n",
       "    }\n",
       "</style>\n",
       "<table border=\"1\" class=\"dataframe\">\n",
       "  <thead>\n",
       "    <tr style=\"text-align: right;\">\n",
       "      <th></th>\n",
       "      <th>Reply</th>\n",
       "      <th>Upvote</th>\n",
       "      <th>Time</th>\n",
       "      <th>Key</th>\n",
       "    </tr>\n",
       "  </thead>\n",
       "  <tbody>\n",
       "    <tr>\n",
       "      <th>0</th>\n",
       "      <td>I didn't go into Bright expecting a cinematic ...</td>\n",
       "      <td>2079</td>\n",
       "      <td>2018-01-26 21:23:11</td>\n",
       "      <td>0</td>\n",
       "    </tr>\n",
       "    <tr>\n",
       "      <th>1</th>\n",
       "      <td>It was pretty good. It was a solid B. Pretty m...</td>\n",
       "      <td>1529</td>\n",
       "      <td>2018-01-26 18:59:11</td>\n",
       "      <td>0</td>\n",
       "    </tr>\n",
       "    <tr>\n",
       "      <th>2</th>\n",
       "      <td>I enjoyed it, I would watch another.  It did n...</td>\n",
       "      <td>244</td>\n",
       "      <td>2018-01-27 00:16:08</td>\n",
       "      <td>0</td>\n",
       "    </tr>\n",
       "    <tr>\n",
       "      <th>3</th>\n",
       "      <td>This is a pretty terrible argument. There no f...</td>\n",
       "      <td>25</td>\n",
       "      <td>2018-01-27 04:42:08</td>\n",
       "      <td>0</td>\n",
       "    </tr>\n",
       "    <tr>\n",
       "      <th>4</th>\n",
       "      <td>Everything was great about it except the plot....</td>\n",
       "      <td>149</td>\n",
       "      <td>2018-01-26 23:37:54</td>\n",
       "      <td>0</td>\n",
       "    </tr>\n",
       "  </tbody>\n",
       "</table>\n",
       "</div>"
      ],
      "text/plain": [
       "                                               Reply  Upvote  \\\n",
       "0  I didn't go into Bright expecting a cinematic ...    2079   \n",
       "1  It was pretty good. It was a solid B. Pretty m...    1529   \n",
       "2  I enjoyed it, I would watch another.  It did n...     244   \n",
       "3  This is a pretty terrible argument. There no f...      25   \n",
       "4  Everything was great about it except the plot....     149   \n",
       "\n",
       "                  Time  Key  \n",
       "0  2018-01-26 21:23:11    0  \n",
       "1  2018-01-26 18:59:11    0  \n",
       "2  2018-01-27 00:16:08    0  \n",
       "3  2018-01-27 04:42:08    0  \n",
       "4  2018-01-26 23:37:54    0  "
      ]
     },
     "execution_count": 5,
     "metadata": {},
     "output_type": "execute_result"
    }
   ],
   "source": [
    "comments.head()"
   ]
  },
  {
   "cell_type": "code",
   "execution_count": 6,
   "metadata": {},
   "outputs": [
    {
     "data": {
      "text/plain": [
       "(57732, 4)"
      ]
     },
     "execution_count": 6,
     "metadata": {},
     "output_type": "execute_result"
    }
   ],
   "source": [
    "comments.shape"
   ]
  },
  {
   "cell_type": "markdown",
   "metadata": {},
   "source": [
    "1.1 Dropping empty comments"
   ]
  },
  {
   "cell_type": "code",
   "execution_count": 7,
   "metadata": {},
   "outputs": [],
   "source": [
    "comments.dropna(subset = [\"Reply\"], inplace = True)"
   ]
  },
  {
   "cell_type": "code",
   "execution_count": 8,
   "metadata": {},
   "outputs": [],
   "source": [
    "# Resetting index\n",
    "comments = comments.reset_index(drop = True)"
   ]
  },
  {
   "cell_type": "markdown",
   "metadata": {},
   "source": [
    "1.2 Remove links"
   ]
  },
  {
   "cell_type": "code",
   "execution_count": 9,
   "metadata": {},
   "outputs": [],
   "source": [
    "comments.Reply = comments.Reply.apply(lambda x: re.sub(r\"\\(?http\\S+\", \"\", x))"
   ]
  },
  {
   "cell_type": "markdown",
   "metadata": {},
   "source": [
    "1.3 Remove punctuation"
   ]
  },
  {
   "cell_type": "code",
   "execution_count": 10,
   "metadata": {},
   "outputs": [],
   "source": [
    "comments.Reply = comments.Reply.apply(lambda x: re.sub(r\"[^\\w\\s]\", \"\", x))"
   ]
  },
  {
   "cell_type": "markdown",
   "metadata": {},
   "source": [
    "1.4 Removing \\n, \\t, etc. characters that do not help with prediction, but might link 2 words together, making them indistinguishable from one another."
   ]
  },
  {
   "cell_type": "code",
   "execution_count": 11,
   "metadata": {},
   "outputs": [],
   "source": [
    "comments.Reply = comments.Reply.apply(lambda x: \" \".join(nltk.word_tokenize(x)))"
   ]
  },
  {
   "cell_type": "markdown",
   "metadata": {},
   "source": [
    "From the MSA Discord, I found that if you removed the \\n, \\t, etc. before removing punctuation, the code would be incorrectly separating \"don't\" into \"do\" and \"n't\". However, this problem is easily avoided if you just remove the punctuation first - no need to use the below code to replace \"n't\" with \"not\"."
   ]
  },
  {
   "cell_type": "code",
   "execution_count": 12,
   "metadata": {},
   "outputs": [],
   "source": [
    "# posts.Submission = posts.Submission.apply(lambda x: x.replace(\" n't \", \" not \"))\n",
    "# posts.Body = posts.Body.apply(lambda x: x.replace(\" n't \", \" not \"))\n",
    "# comments.Reply = comments.Reply.apply(lambda x: x.replace(\" n't \", \" not \"))"
   ]
  },
  {
   "cell_type": "markdown",
   "metadata": {},
   "source": [
    "#### 1.5 Bigrams"
   ]
  },
  {
   "cell_type": "code",
   "execution_count": 13,
   "metadata": {},
   "outputs": [],
   "source": [
    "from nltk.collocations import *\n",
    "\n",
    "bigram_measures = nltk.collocations.BigramAssocMeasures()"
   ]
  },
  {
   "cell_type": "code",
   "execution_count": 14,
   "metadata": {},
   "outputs": [
    {
     "data": {
      "text/plain": [
       "'I didnt go into Bright expecting a cinematic masterpiece I was expecting Training Day with elves and magic which is exactly what it delivered. It was pretty good It was a solid B Pretty much what I ex'"
      ]
     },
     "execution_count": 14,
     "metadata": {},
     "output_type": "execute_result"
    }
   ],
   "source": [
    "# Joins all comments separated by a \". \" into a SINGLE string\n",
    "# Trying it on all 57729 comments\n",
    "all_text = comments.Reply.str.cat(sep = \". \")\n",
    "all_text[:200]"
   ]
  },
  {
   "cell_type": "code",
   "execution_count": 15,
   "metadata": {},
   "outputs": [],
   "source": [
    "# Bigrams only accept lists, so we tokenize our single string\n",
    "all_text = nltk.word_tokenize(all_text)"
   ]
  },
  {
   "cell_type": "code",
   "execution_count": 17,
   "metadata": {},
   "outputs": [
    {
     "name": "stdout",
     "output_type": "stream",
     "text": [
      "[('Rotten', 'Tomatoes'), ('sci', 'fi'), ('Umbrella', 'Academy'), ('Bird', 'Box'), ('Iron', 'Fist'), ('El', 'Camino'), ('Clarita', 'Diet'), ('Call', 'Saul'), ('Altered', 'Carbon'), ('Santa', 'Clarita')]\n"
     ]
    }
   ],
   "source": [
    "def common_bigrams(tokenized_text, min_freq, top_n):\n",
    "    bigram_measures = nltk.collocations.BigramAssocMeasures()\n",
    "    finder = BigramCollocationFinder.from_words(tokenized_text)\n",
    "    finder.apply_freq_filter(min_freq) \n",
    "    finder.nbest(bigram_measures.pmi, top_n)\n",
    "    return finder.nbest(bigram_measures.pmi, top_n)\n",
    "\n",
    "bigrams_50 = common_bigrams(all_text, 50, 10)\n",
    "print(bigrams_50)"
   ]
  },
  {
   "cell_type": "markdown",
   "metadata": {},
   "source": [
    "#### 1.6 Wordcloud"
   ]
  },
  {
   "cell_type": "code",
   "execution_count": 18,
   "metadata": {},
   "outputs": [],
   "source": [
    "import wordcloud\n",
    "from wordcloud import WordCloud, STOPWORDS\n",
    "import matplotlib.pyplot as plt\n",
    "\n",
    "# Single string, trying it on all 57729 comments\n",
    "all_text = comments.Reply.str.cat(sep = \". \")"
   ]
  },
  {
   "cell_type": "code",
   "execution_count": 19,
   "metadata": {},
   "outputs": [],
   "source": [
    "import random\n",
    "\n",
    "def grey_color_func(word, font_size, position, orientation, random_state = None, **kwargs):\n",
    "    return \"hsl(0, 0%%, %d%%)\" % random.randint(1, 20)"
   ]
  },
  {
   "cell_type": "code",
   "execution_count": 20,
   "metadata": {},
   "outputs": [
    {
     "data": {
      "image/png": "[encoded data removed]",
      "text/plain": [
       "<Figure size 720x1440 with 1 Axes>"
      ]
     },
     "metadata": {
      "needs_background": "light"
     },
     "output_type": "display_data"
    }
   ],
   "source": [
    "stp = STOPWORDS.copy()\n",
    "# Can add stopwords\n",
    "# stp.add(\"Netflix\")\n",
    "\n",
    "wc = WordCloud(background_color = \"white\", max_words = 50, stopwords = stp)\n",
    "\n",
    "# Generate word cloud\n",
    "wc.generate(all_text)\n",
    "\n",
    "plt.figure(figsize = (10,20))\n",
    "plt.imshow(wc.recolor(color_func = grey_color_func, random_state = 3))\n",
    "plt.show()"
   ]
  },
  {
   "cell_type": "markdown",
   "metadata": {},
   "source": [
    "## 2. Full Data Processing For Sentiment Analysis"
   ]
  },
  {
   "cell_type": "markdown",
   "metadata": {},
   "source": [
    "Fully preparing my data (posts and comments) for Sentiment Analysis:\n",
    "* Dropping empty comments + filling NaN body values\n",
    "* Removing Netflix title names from the Submission title, body and comments\n",
    "* Removing links\n",
    "* Removing punctuation\n",
    "* Removing \\n, \\t, etc.\n",
    "* Removing stopwords\n",
    "* Lemmatization"
   ]
  },
  {
   "cell_type": "code",
   "execution_count": 63,
   "metadata": {},
   "outputs": [],
   "source": [
    "# Re-reading in my data\n",
    "netflix_shows = pd.read_csv(\"netflix_titles_v2.csv\")\n",
    "posts = pd.read_csv(\"Netflix_Posts.csv\")\n",
    "comments = pd.read_csv(\"Netflix_Comments.csv\")"
   ]
  },
  {
   "cell_type": "code",
   "execution_count": 64,
   "metadata": {},
   "outputs": [
    {
     "data": {
      "text/html": [
       "<div>\n",
       "<style scoped>\n",
       "    .dataframe tbody tr th:only-of-type {\n",
       "        vertical-align: middle;\n",
       "    }\n",
       "\n",
       "    .dataframe tbody tr th {\n",
       "        vertical-align: top;\n",
       "    }\n",
       "\n",
       "    .dataframe thead th {\n",
       "        text-align: right;\n",
       "    }\n",
       "</style>\n",
       "<table border=\"1\" class=\"dataframe\">\n",
       "  <thead>\n",
       "    <tr style=\"text-align: right;\">\n",
       "      <th></th>\n",
       "      <th>Submission</th>\n",
       "      <th>Netflix_Title</th>\n",
       "      <th>Genres</th>\n",
       "      <th>Body</th>\n",
       "      <th>URL</th>\n",
       "      <th>Upvotes</th>\n",
       "      <th>Time</th>\n",
       "      <th>Key</th>\n",
       "    </tr>\n",
       "  </thead>\n",
       "  <tbody>\n",
       "    <tr>\n",
       "      <th>0</th>\n",
       "      <td>Netflix executives say the success of 'Bright'...</td>\n",
       "      <td>Bright</td>\n",
       "      <td>Action &amp; Adventure, Sci-Fi &amp; Fantasy</td>\n",
       "      <td>NaN</td>\n",
       "      <td>https://www.reddit.com/r/netflix/comments/7t2f...</td>\n",
       "      <td>6802</td>\n",
       "      <td>2018-01-26 18:11:49</td>\n",
       "      <td>0</td>\n",
       "    </tr>\n",
       "    <tr>\n",
       "      <th>1</th>\n",
       "      <td>Netflix Fires Kevin Spacey from ‘House of Cards’</td>\n",
       "      <td>House of Cards</td>\n",
       "      <td>TV Dramas, TV Thrillers</td>\n",
       "      <td>NaN</td>\n",
       "      <td>https://www.reddit.com/r/netflix/comments/7ao8...</td>\n",
       "      <td>6504</td>\n",
       "      <td>2017-11-04 15:47:43</td>\n",
       "      <td>1</td>\n",
       "    </tr>\n",
       "    <tr>\n",
       "      <th>2</th>\n",
       "      <td>Netflix has Cloverfield 3</td>\n",
       "      <td>Cloverfield</td>\n",
       "      <td>Action &amp; Adventure, Horror Movies, Sci-Fi &amp; Fa...</td>\n",
       "      <td>Edit: Streaming starts post game</td>\n",
       "      <td>https://www.reddit.com/r/netflix/comments/7vav...</td>\n",
       "      <td>5597</td>\n",
       "      <td>2018-02-05 13:23:43</td>\n",
       "      <td>2</td>\n",
       "    </tr>\n",
       "    <tr>\n",
       "      <th>3</th>\n",
       "      <td>The Witcher is Netflix's highest rated series</td>\n",
       "      <td>The Witcher</td>\n",
       "      <td>TV Action &amp; Adventure, TV Dramas, TV Mysteries</td>\n",
       "      <td>https://www.forbes.com/sites/paultassi/2019/12...</td>\n",
       "      <td>https://www.reddit.com/r/netflix/comments/eekm...</td>\n",
       "      <td>4891</td>\n",
       "      <td>2019-12-24 02:30:46</td>\n",
       "      <td>3</td>\n",
       "    </tr>\n",
       "    <tr>\n",
       "      <th>4</th>\n",
       "      <td>Netflix has won its first Oscar, for Icarus</td>\n",
       "      <td>Icarus</td>\n",
       "      <td>Documentaries, Sports Movies</td>\n",
       "      <td>NaN</td>\n",
       "      <td>https://www.reddit.com/r/netflix/comments/8238...</td>\n",
       "      <td>4632</td>\n",
       "      <td>2018-03-05 17:03:47</td>\n",
       "      <td>4</td>\n",
       "    </tr>\n",
       "  </tbody>\n",
       "</table>\n",
       "</div>"
      ],
      "text/plain": [
       "                                          Submission   Netflix_Title  \\\n",
       "0  Netflix executives say the success of 'Bright'...          Bright   \n",
       "1   Netflix Fires Kevin Spacey from ‘House of Cards’  House of Cards   \n",
       "2                          Netflix has Cloverfield 3     Cloverfield   \n",
       "3      The Witcher is Netflix's highest rated series     The Witcher   \n",
       "4        Netflix has won its first Oscar, for Icarus          Icarus   \n",
       "\n",
       "                                              Genres  \\\n",
       "0               Action & Adventure, Sci-Fi & Fantasy   \n",
       "1                            TV Dramas, TV Thrillers   \n",
       "2  Action & Adventure, Horror Movies, Sci-Fi & Fa...   \n",
       "3     TV Action & Adventure, TV Dramas, TV Mysteries   \n",
       "4                       Documentaries, Sports Movies   \n",
       "\n",
       "                                                Body  \\\n",
       "0                                                NaN   \n",
       "1                                                NaN   \n",
       "2                   Edit: Streaming starts post game   \n",
       "3  https://www.forbes.com/sites/paultassi/2019/12...   \n",
       "4                                                NaN   \n",
       "\n",
       "                                                 URL  Upvotes  \\\n",
       "0  https://www.reddit.com/r/netflix/comments/7t2f...     6802   \n",
       "1  https://www.reddit.com/r/netflix/comments/7ao8...     6504   \n",
       "2  https://www.reddit.com/r/netflix/comments/7vav...     5597   \n",
       "3  https://www.reddit.com/r/netflix/comments/eekm...     4891   \n",
       "4  https://www.reddit.com/r/netflix/comments/8238...     4632   \n",
       "\n",
       "                  Time  Key  \n",
       "0  2018-01-26 18:11:49    0  \n",
       "1  2017-11-04 15:47:43    1  \n",
       "2  2018-02-05 13:23:43    2  \n",
       "3  2019-12-24 02:30:46    3  \n",
       "4  2018-03-05 17:03:47    4  "
      ]
     },
     "execution_count": 64,
     "metadata": {},
     "output_type": "execute_result"
    }
   ],
   "source": [
    "posts.head()"
   ]
  },
  {
   "cell_type": "code",
   "execution_count": 65,
   "metadata": {},
   "outputs": [
    {
     "data": {
      "text/plain": [
       "(415, 8)"
      ]
     },
     "execution_count": 65,
     "metadata": {},
     "output_type": "execute_result"
    }
   ],
   "source": [
    "posts.shape"
   ]
  },
  {
   "cell_type": "code",
   "execution_count": 66,
   "metadata": {},
   "outputs": [
    {
     "data": {
      "text/html": [
       "<div>\n",
       "<style scoped>\n",
       "    .dataframe tbody tr th:only-of-type {\n",
       "        vertical-align: middle;\n",
       "    }\n",
       "\n",
       "    .dataframe tbody tr th {\n",
       "        vertical-align: top;\n",
       "    }\n",
       "\n",
       "    .dataframe thead th {\n",
       "        text-align: right;\n",
       "    }\n",
       "</style>\n",
       "<table border=\"1\" class=\"dataframe\">\n",
       "  <thead>\n",
       "    <tr style=\"text-align: right;\">\n",
       "      <th></th>\n",
       "      <th>Reply</th>\n",
       "      <th>Upvote</th>\n",
       "      <th>Time</th>\n",
       "      <th>Key</th>\n",
       "    </tr>\n",
       "  </thead>\n",
       "  <tbody>\n",
       "    <tr>\n",
       "      <th>0</th>\n",
       "      <td>I didn't go into Bright expecting a cinematic ...</td>\n",
       "      <td>2079</td>\n",
       "      <td>2018-01-26 21:23:11</td>\n",
       "      <td>0</td>\n",
       "    </tr>\n",
       "    <tr>\n",
       "      <th>1</th>\n",
       "      <td>It was pretty good. It was a solid B. Pretty m...</td>\n",
       "      <td>1529</td>\n",
       "      <td>2018-01-26 18:59:11</td>\n",
       "      <td>0</td>\n",
       "    </tr>\n",
       "    <tr>\n",
       "      <th>2</th>\n",
       "      <td>I enjoyed it, I would watch another.  It did n...</td>\n",
       "      <td>244</td>\n",
       "      <td>2018-01-27 00:16:08</td>\n",
       "      <td>0</td>\n",
       "    </tr>\n",
       "    <tr>\n",
       "      <th>3</th>\n",
       "      <td>This is a pretty terrible argument. There no f...</td>\n",
       "      <td>25</td>\n",
       "      <td>2018-01-27 04:42:08</td>\n",
       "      <td>0</td>\n",
       "    </tr>\n",
       "    <tr>\n",
       "      <th>4</th>\n",
       "      <td>Everything was great about it except the plot....</td>\n",
       "      <td>149</td>\n",
       "      <td>2018-01-26 23:37:54</td>\n",
       "      <td>0</td>\n",
       "    </tr>\n",
       "  </tbody>\n",
       "</table>\n",
       "</div>"
      ],
      "text/plain": [
       "                                               Reply  Upvote  \\\n",
       "0  I didn't go into Bright expecting a cinematic ...    2079   \n",
       "1  It was pretty good. It was a solid B. Pretty m...    1529   \n",
       "2  I enjoyed it, I would watch another.  It did n...     244   \n",
       "3  This is a pretty terrible argument. There no f...      25   \n",
       "4  Everything was great about it except the plot....     149   \n",
       "\n",
       "                  Time  Key  \n",
       "0  2018-01-26 21:23:11    0  \n",
       "1  2018-01-26 18:59:11    0  \n",
       "2  2018-01-27 00:16:08    0  \n",
       "3  2018-01-27 04:42:08    0  \n",
       "4  2018-01-26 23:37:54    0  "
      ]
     },
     "execution_count": 66,
     "metadata": {},
     "output_type": "execute_result"
    }
   ],
   "source": [
    "comments.head()"
   ]
  },
  {
   "cell_type": "code",
   "execution_count": 67,
   "metadata": {},
   "outputs": [
    {
     "data": {
      "text/plain": [
       "(57732, 4)"
      ]
     },
     "execution_count": 67,
     "metadata": {},
     "output_type": "execute_result"
    }
   ],
   "source": [
    "comments.shape"
   ]
  },
  {
   "cell_type": "markdown",
   "metadata": {},
   "source": [
    "2.1 Dropping empty comments + filling NaN body values"
   ]
  },
  {
   "cell_type": "code",
   "execution_count": 68,
   "metadata": {},
   "outputs": [],
   "source": [
    "comments.dropna(subset = [\"Reply\"], inplace = True)\n",
    "\n",
    "# For body, I will instead fillna\n",
    "posts.Body.fillna(\"\", inplace = True)"
   ]
  },
  {
   "cell_type": "code",
   "execution_count": 69,
   "metadata": {},
   "outputs": [],
   "source": [
    "# Resetting index (only columns were dropped from comments)\n",
    "comments = comments.reset_index(drop = True)"
   ]
  },
  {
   "cell_type": "markdown",
   "metadata": {},
   "source": [
    "2.2 Remove Netflix title from Submission title, body and comments (IMPORTANT)"
   ]
  },
  {
   "cell_type": "code",
   "execution_count": 70,
   "metadata": {},
   "outputs": [],
   "source": [
    "# New list for modified \"Submission\"\n",
    "new_submission = []\n",
    "\n",
    "count = 0\n",
    "for line in posts[\"Submission\"]:\n",
    "    new_submission.append(line.replace(posts[\"Netflix_Title\"].tolist()[count], \"\"))\n",
    "    count += 1"
   ]
  },
  {
   "cell_type": "code",
   "execution_count": 71,
   "metadata": {},
   "outputs": [],
   "source": [
    "# Replacing \"Submission\" with the modified column\n",
    "posts[\"Submission\"] = new_submission"
   ]
  },
  {
   "cell_type": "code",
   "execution_count": 72,
   "metadata": {},
   "outputs": [],
   "source": [
    "# New list for modified \"Body\"\n",
    "new_body = []\n",
    "\n",
    "count = 0\n",
    "for line in posts[\"Body\"]:\n",
    "    new_body.append(line.replace(posts[\"Netflix_Title\"].tolist()[count], \"\"))\n",
    "    count += 1"
   ]
  },
  {
   "cell_type": "code",
   "execution_count": 73,
   "metadata": {},
   "outputs": [],
   "source": [
    "# Replacing \"Body\" with the modified column\n",
    "posts[\"Body\"] = new_body"
   ]
  },
  {
   "cell_type": "code",
   "execution_count": 74,
   "metadata": {},
   "outputs": [],
   "source": [
    "# New list for modified \"Reply\" (comments)\n",
    "new_reply = []\n",
    "\n",
    "count = 0\n",
    "for line in comments[\"Reply\"]:\n",
    "    key = comments[\"Key\"][count]\n",
    "    new_reply.append(line.replace(posts[\"Netflix_Title\"].tolist()[key], \"\"))\n",
    "    count += 1"
   ]
  },
  {
   "cell_type": "code",
   "execution_count": 75,
   "metadata": {},
   "outputs": [],
   "source": [
    "# Replacing \"Reply\" with the modified column\n",
    "comments[\"Reply\"] = new_reply"
   ]
  },
  {
   "cell_type": "markdown",
   "metadata": {},
   "source": [
    "2.3 Remove links"
   ]
  },
  {
   "cell_type": "code",
   "execution_count": 76,
   "metadata": {},
   "outputs": [],
   "source": [
    "posts.Submission = posts.Submission.apply(lambda x: re.sub(r\"\\(?http\\S+\", \"\", x))\n",
    "posts.Body = posts.Body.apply(lambda x: re.sub(r\"\\(?http\\S+\", \"\", x))\n",
    "comments.Reply = comments.Reply.apply(lambda x: re.sub(r\"\\(?http\\S+\", \"\", x))"
   ]
  },
  {
   "cell_type": "markdown",
   "metadata": {},
   "source": [
    "2.4 Remove punctuation"
   ]
  },
  {
   "cell_type": "code",
   "execution_count": 77,
   "metadata": {},
   "outputs": [],
   "source": [
    "posts.Submission = posts.Submission.apply(lambda x: re.sub(r\"[^\\w\\s]\", \"\", x))\n",
    "posts.Body = posts.Body.apply(lambda x: re.sub(r\"[^\\w\\s]\", \"\", x))\n",
    "comments.Reply = comments.Reply.apply(lambda x: re.sub(r\"[^\\w\\s]\", \"\", x))"
   ]
  },
  {
   "cell_type": "markdown",
   "metadata": {},
   "source": [
    "2.5 Removing \\n, \\t, etc. characters that do not help with prediction, but might link 2 words together, making them indistinguishable from one another.\n",
    "\n",
    "Again, no need to use any extra .replace() method."
   ]
  },
  {
   "cell_type": "code",
   "execution_count": 78,
   "metadata": {},
   "outputs": [],
   "source": [
    "posts.Submission = posts.Submission.apply(lambda x: \" \".join(nltk.word_tokenize(x)))\n",
    "posts.Body = posts.Body.apply(lambda x: \" \".join(nltk.word_tokenize(x)))\n",
    "comments.Reply = comments.Reply.apply(lambda x: \" \".join(nltk.word_tokenize(x)))"
   ]
  },
  {
   "cell_type": "markdown",
   "metadata": {},
   "source": [
    "2.6 Remove stopwords"
   ]
  },
  {
   "cell_type": "code",
   "execution_count": 79,
   "metadata": {},
   "outputs": [],
   "source": [
    "from nltk.corpus import stopwords\n",
    "\n",
    "stopwords = stopwords.words(\"english\")\n",
    "posts.Submission = posts.Submission.apply(lambda x: \" \".join([word for word in nltk.word_tokenize(x) if word.lower() not in stopwords]))\n",
    "posts.Body = posts.Body.apply(lambda x: \" \".join([word for word in nltk.word_tokenize(x) if word.lower() not in stopwords]))\n",
    "comments.Reply = comments.Reply.apply(lambda x: \" \".join([word for word in nltk.word_tokenize(x) if word.lower() not in stopwords]))"
   ]
  },
  {
   "cell_type": "markdown",
   "metadata": {},
   "source": [
    "2.7 Lemmatization"
   ]
  },
  {
   "cell_type": "code",
   "execution_count": 80,
   "metadata": {},
   "outputs": [],
   "source": [
    "lemmatizer = nltk.WordNetLemmatizer()\n",
    "posts.Submission = posts.Submission.apply(lambda x: \" \".join(\n",
    "    [lemmatizer.lemmatize(word) for word in nltk.word_tokenize(x)]\n",
    "))\n",
    "posts.Body = posts.Body.apply(lambda x: \" \".join(\n",
    "    [lemmatizer.lemmatize(word) for word in nltk.word_tokenize(x)]\n",
    "))\n",
    "comments.Reply = comments.Reply.apply(lambda x: \" \".join(\n",
    "    [lemmatizer.lemmatize(word) for word in nltk.word_tokenize(x)]\n",
    "))"
   ]
  },
  {
   "cell_type": "markdown",
   "metadata": {},
   "source": [
    "Now, I will write to 2 new csv's that are ready for sentiment analysis."
   ]
  },
  {
   "cell_type": "code",
   "execution_count": 81,
   "metadata": {},
   "outputs": [],
   "source": [
    "posts.to_csv(\"Netflix_Posts_Processed.csv\", index = False)\n",
    "comments.to_csv(\"Netflix_Comments_Processed.csv\", index = False)"
   ]
  },
  {
   "cell_type": "markdown",
   "metadata": {},
   "source": [
    "## 3. Sentiment Analysis"
   ]
  },
  {
   "cell_type": "code",
   "execution_count": 93,
   "metadata": {},
   "outputs": [],
   "source": [
    "posts = pd.read_csv(\"Netflix_Posts_Processed.csv\")\n",
    "comments = pd.read_csv(\"Netflix_Comments_Processed.csv\")"
   ]
  },
  {
   "cell_type": "markdown",
   "metadata": {},
   "source": [
    "### 3.1 Vader"
   ]
  },
  {
   "cell_type": "code",
   "execution_count": 94,
   "metadata": {},
   "outputs": [],
   "source": [
    "from nltk.sentiment.vader import SentimentIntensityAnalyzer, VaderConstants\n",
    "\n",
    "# Initialize Vader\n",
    "sid = SentimentIntensityAnalyzer()"
   ]
  },
  {
   "cell_type": "markdown",
   "metadata": {},
   "source": [
    "Creating new columns to add in the new variables. Because Vader returns a dictionary, we can just call pd.Series to add it in.\n",
    "\n",
    "We will be looking firstly at the posts (Submission Title - decided against looking at Body)."
   ]
  },
  {
   "cell_type": "code",
   "execution_count": 95,
   "metadata": {},
   "outputs": [],
   "source": [
    "# First, sentiment scores for the Submission title\n",
    "posts[[\"neg\",\"neu\",\"pos\",\"compound\"]] = posts.Submission.apply(lambda x: pd.Series(sid.polarity_scores(str(x))))"
   ]
  },
  {
   "cell_type": "code",
   "execution_count": 98,
   "metadata": {},
   "outputs": [
    {
     "data": {
      "text/html": [
       "<div>\n",
       "<style scoped>\n",
       "    .dataframe tbody tr th:only-of-type {\n",
       "        vertical-align: middle;\n",
       "    }\n",
       "\n",
       "    .dataframe tbody tr th {\n",
       "        vertical-align: top;\n",
       "    }\n",
       "\n",
       "    .dataframe thead th {\n",
       "        text-align: right;\n",
       "    }\n",
       "</style>\n",
       "<table border=\"1\" class=\"dataframe\">\n",
       "  <thead>\n",
       "    <tr style=\"text-align: right;\">\n",
       "      <th></th>\n",
       "      <th>Submission</th>\n",
       "      <th>Netflix_Title</th>\n",
       "      <th>Genres</th>\n",
       "      <th>Body</th>\n",
       "      <th>URL</th>\n",
       "      <th>Upvotes</th>\n",
       "      <th>Time</th>\n",
       "      <th>Key</th>\n",
       "      <th>neg</th>\n",
       "      <th>neu</th>\n",
       "      <th>pos</th>\n",
       "      <th>compound</th>\n",
       "      <th>Sentiment</th>\n",
       "    </tr>\n",
       "  </thead>\n",
       "  <tbody>\n",
       "    <tr>\n",
       "      <th>0</th>\n",
       "      <td>Netflix executive say success proof bad review...</td>\n",
       "      <td>Bright</td>\n",
       "      <td>Action &amp; Adventure, Sci-Fi &amp; Fantasy</td>\n",
       "      <td>NaN</td>\n",
       "      <td>https://www.reddit.com/r/netflix/comments/7t2f...</td>\n",
       "      <td>6802</td>\n",
       "      <td>2018-01-26 18:11:49</td>\n",
       "      <td>0</td>\n",
       "      <td>0.25</td>\n",
       "      <td>0.547</td>\n",
       "      <td>0.202</td>\n",
       "      <td>0.0325</td>\n",
       "      <td>neutral</td>\n",
       "    </tr>\n",
       "    <tr>\n",
       "      <th>1</th>\n",
       "      <td>Netflix Fires Kevin Spacey</td>\n",
       "      <td>House of Cards</td>\n",
       "      <td>TV Dramas, TV Thrillers</td>\n",
       "      <td>NaN</td>\n",
       "      <td>https://www.reddit.com/r/netflix/comments/7ao8...</td>\n",
       "      <td>6504</td>\n",
       "      <td>2017-11-04 15:47:43</td>\n",
       "      <td>1</td>\n",
       "      <td>0.00</td>\n",
       "      <td>1.000</td>\n",
       "      <td>0.000</td>\n",
       "      <td>0.0000</td>\n",
       "      <td>neutral</td>\n",
       "    </tr>\n",
       "    <tr>\n",
       "      <th>2</th>\n",
       "      <td>Netflix 3</td>\n",
       "      <td>Cloverfield</td>\n",
       "      <td>Action &amp; Adventure, Horror Movies, Sci-Fi &amp; Fa...</td>\n",
       "      <td>Edit Streaming start post game</td>\n",
       "      <td>https://www.reddit.com/r/netflix/comments/7vav...</td>\n",
       "      <td>5597</td>\n",
       "      <td>2018-02-05 13:23:43</td>\n",
       "      <td>2</td>\n",
       "      <td>0.00</td>\n",
       "      <td>1.000</td>\n",
       "      <td>0.000</td>\n",
       "      <td>0.0000</td>\n",
       "      <td>neutral</td>\n",
       "    </tr>\n",
       "  </tbody>\n",
       "</table>\n",
       "</div>"
      ],
      "text/plain": [
       "                                          Submission   Netflix_Title  \\\n",
       "0  Netflix executive say success proof bad review...          Bright   \n",
       "1                         Netflix Fires Kevin Spacey  House of Cards   \n",
       "2                                          Netflix 3     Cloverfield   \n",
       "\n",
       "                                              Genres  \\\n",
       "0               Action & Adventure, Sci-Fi & Fantasy   \n",
       "1                            TV Dramas, TV Thrillers   \n",
       "2  Action & Adventure, Horror Movies, Sci-Fi & Fa...   \n",
       "\n",
       "                             Body  \\\n",
       "0                             NaN   \n",
       "1                             NaN   \n",
       "2  Edit Streaming start post game   \n",
       "\n",
       "                                                 URL  Upvotes  \\\n",
       "0  https://www.reddit.com/r/netflix/comments/7t2f...     6802   \n",
       "1  https://www.reddit.com/r/netflix/comments/7ao8...     6504   \n",
       "2  https://www.reddit.com/r/netflix/comments/7vav...     5597   \n",
       "\n",
       "                  Time  Key   neg    neu    pos  compound Sentiment  \n",
       "0  2018-01-26 18:11:49    0  0.25  0.547  0.202    0.0325   neutral  \n",
       "1  2017-11-04 15:47:43    1  0.00  1.000  0.000    0.0000   neutral  \n",
       "2  2018-02-05 13:23:43    2  0.00  1.000  0.000    0.0000   neutral  "
      ]
     },
     "execution_count": 98,
     "metadata": {},
     "output_type": "execute_result"
    }
   ],
   "source": [
    "posts.head(3)"
   ]
  },
  {
   "cell_type": "markdown",
   "metadata": {},
   "source": [
    "In hindsight, far too many posts from the ones that I've gathered have an empty body - so I have decided to leave out sentiment analysis on the body of the posts."
   ]
  },
  {
   "cell_type": "code",
   "execution_count": 86,
   "metadata": {},
   "outputs": [],
   "source": [
    "# Second, sentiment scores for the Body of post\n",
    "# posts[[\"b_neg\",\"b_neu\",\"b_pos\",\"b_compound\"]] = posts.Body.apply(lambda x: pd.Series(sid.polarity_scores(str(x))))"
   ]
  },
  {
   "cell_type": "code",
   "execution_count": 97,
   "metadata": {},
   "outputs": [],
   "source": [
    "# Generating overall sentiment\n",
    "# Positive: compound >= 0.05\n",
    "# Negative: compound <= 0.05\n",
    "# Neutral: in between\n",
    "posts[\"Sentiment\"] = np.where(posts[\"compound\"] >= 0.05, \"positive\", np.where(posts[\"compound\"] <= -0.05, \"negative\", \"neutral\"))"
   ]
  },
  {
   "cell_type": "code",
   "execution_count": 127,
   "metadata": {},
   "outputs": [
    {
     "data": {
      "text/html": [
       "<div>\n",
       "<style scoped>\n",
       "    .dataframe tbody tr th:only-of-type {\n",
       "        vertical-align: middle;\n",
       "    }\n",
       "\n",
       "    .dataframe tbody tr th {\n",
       "        vertical-align: top;\n",
       "    }\n",
       "\n",
       "    .dataframe thead th {\n",
       "        text-align: right;\n",
       "    }\n",
       "</style>\n",
       "<table border=\"1\" class=\"dataframe\">\n",
       "  <thead>\n",
       "    <tr style=\"text-align: right;\">\n",
       "      <th></th>\n",
       "      <th>Submission</th>\n",
       "      <th>Netflix_Title</th>\n",
       "      <th>neg</th>\n",
       "      <th>neu</th>\n",
       "      <th>pos</th>\n",
       "      <th>compound</th>\n",
       "      <th>Sentiment</th>\n",
       "    </tr>\n",
       "  </thead>\n",
       "  <tbody>\n",
       "    <tr>\n",
       "      <th>0</th>\n",
       "      <td>Netflix executive say success proof bad review...</td>\n",
       "      <td>Bright</td>\n",
       "      <td>0.250</td>\n",
       "      <td>0.547</td>\n",
       "      <td>0.202</td>\n",
       "      <td>0.0325</td>\n",
       "      <td>neutral</td>\n",
       "    </tr>\n",
       "    <tr>\n",
       "      <th>1</th>\n",
       "      <td>Netflix Fires Kevin Spacey</td>\n",
       "      <td>House of Cards</td>\n",
       "      <td>0.000</td>\n",
       "      <td>1.000</td>\n",
       "      <td>0.000</td>\n",
       "      <td>0.0000</td>\n",
       "      <td>neutral</td>\n",
       "    </tr>\n",
       "    <tr>\n",
       "      <th>2</th>\n",
       "      <td>Netflix 3</td>\n",
       "      <td>Cloverfield</td>\n",
       "      <td>0.000</td>\n",
       "      <td>1.000</td>\n",
       "      <td>0.000</td>\n",
       "      <td>0.0000</td>\n",
       "      <td>neutral</td>\n",
       "    </tr>\n",
       "    <tr>\n",
       "      <th>3</th>\n",
       "      <td>Netflixs highest rated series</td>\n",
       "      <td>The Witcher</td>\n",
       "      <td>0.000</td>\n",
       "      <td>1.000</td>\n",
       "      <td>0.000</td>\n",
       "      <td>0.0000</td>\n",
       "      <td>neutral</td>\n",
       "    </tr>\n",
       "    <tr>\n",
       "      <th>4</th>\n",
       "      <td>Netflix first Oscar</td>\n",
       "      <td>Icarus</td>\n",
       "      <td>0.000</td>\n",
       "      <td>1.000</td>\n",
       "      <td>0.000</td>\n",
       "      <td>0.0000</td>\n",
       "      <td>neutral</td>\n",
       "    </tr>\n",
       "    <tr>\n",
       "      <th>...</th>\n",
       "      <td>...</td>\n",
       "      <td>...</td>\n",
       "      <td>...</td>\n",
       "      <td>...</td>\n",
       "      <td>...</td>\n",
       "      <td>...</td>\n",
       "      <td>...</td>\n",
       "    </tr>\n",
       "    <tr>\n",
       "      <th>410</th>\n",
       "      <td>season 2 premiere May 12</td>\n",
       "      <td>Master of None</td>\n",
       "      <td>0.000</td>\n",
       "      <td>1.000</td>\n",
       "      <td>0.000</td>\n",
       "      <td>0.0000</td>\n",
       "      <td>neutral</td>\n",
       "    </tr>\n",
       "    <tr>\n",
       "      <th>411</th>\n",
       "      <td>Season 4 Official Trailer HD Netflix</td>\n",
       "      <td>BoJack Horseman</td>\n",
       "      <td>0.000</td>\n",
       "      <td>1.000</td>\n",
       "      <td>0.000</td>\n",
       "      <td>0.0000</td>\n",
       "      <td>neutral</td>\n",
       "    </tr>\n",
       "    <tr>\n",
       "      <th>412</th>\n",
       "      <td>final season coming November 2</td>\n",
       "      <td>House of Cards</td>\n",
       "      <td>0.000</td>\n",
       "      <td>1.000</td>\n",
       "      <td>0.000</td>\n",
       "      <td>0.0000</td>\n",
       "      <td>neutral</td>\n",
       "    </tr>\n",
       "    <tr>\n",
       "      <th>413</th>\n",
       "      <td>Striking Vipers Official Trailer</td>\n",
       "      <td>Black Mirror</td>\n",
       "      <td>0.000</td>\n",
       "      <td>1.000</td>\n",
       "      <td>0.000</td>\n",
       "      <td>0.0000</td>\n",
       "      <td>neutral</td>\n",
       "    </tr>\n",
       "    <tr>\n",
       "      <th>414</th>\n",
       "      <td>Dirk Gently like meet Legion Doctor dash Fargo...</td>\n",
       "      <td>Sherlock</td>\n",
       "      <td>0.086</td>\n",
       "      <td>0.691</td>\n",
       "      <td>0.223</td>\n",
       "      <td>0.5252</td>\n",
       "      <td>positive</td>\n",
       "    </tr>\n",
       "  </tbody>\n",
       "</table>\n",
       "<p>415 rows × 7 columns</p>\n",
       "</div>"
      ],
      "text/plain": [
       "                                            Submission    Netflix_Title  \\\n",
       "0    Netflix executive say success proof bad review...           Bright   \n",
       "1                           Netflix Fires Kevin Spacey   House of Cards   \n",
       "2                                            Netflix 3      Cloverfield   \n",
       "3                        Netflixs highest rated series      The Witcher   \n",
       "4                                  Netflix first Oscar           Icarus   \n",
       "..                                                 ...              ...   \n",
       "410                           season 2 premiere May 12   Master of None   \n",
       "411               Season 4 Official Trailer HD Netflix  BoJack Horseman   \n",
       "412                     final season coming November 2   House of Cards   \n",
       "413                   Striking Vipers Official Trailer     Black Mirror   \n",
       "414  Dirk Gently like meet Legion Doctor dash Fargo...         Sherlock   \n",
       "\n",
       "       neg    neu    pos  compound Sentiment  \n",
       "0    0.250  0.547  0.202    0.0325   neutral  \n",
       "1    0.000  1.000  0.000    0.0000   neutral  \n",
       "2    0.000  1.000  0.000    0.0000   neutral  \n",
       "3    0.000  1.000  0.000    0.0000   neutral  \n",
       "4    0.000  1.000  0.000    0.0000   neutral  \n",
       "..     ...    ...    ...       ...       ...  \n",
       "410  0.000  1.000  0.000    0.0000   neutral  \n",
       "411  0.000  1.000  0.000    0.0000   neutral  \n",
       "412  0.000  1.000  0.000    0.0000   neutral  \n",
       "413  0.000  1.000  0.000    0.0000   neutral  \n",
       "414  0.086  0.691  0.223    0.5252  positive  \n",
       "\n",
       "[415 rows x 7 columns]"
      ]
     },
     "execution_count": 127,
     "metadata": {},
     "output_type": "execute_result"
    }
   ],
   "source": [
    "posts[[\"Submission\", \"Netflix_Title\", \"neg\", \"neu\", \"pos\", \"compound\", \"Sentiment\"]]"
   ]
  },
  {
   "cell_type": "code",
   "execution_count": 130,
   "metadata": {},
   "outputs": [
    {
     "name": "stdout",
     "output_type": "stream",
     "text": [
      "For the submission titles of the posts, \n",
      "\n",
      "The number of positive sentiments: 88\n",
      "The number of negative sentiments: 70\n",
      "The number of neutral sentiments: 257\n",
      "\n",
      "As a percentage of the total: (415!)\n",
      "\n",
      "21.2% of submission titles were positive.\n",
      "16.87% of submission titles were negative.\n",
      "61.93% of submission titles were neutral.\n"
     ]
    }
   ],
   "source": [
    "total = 0\n",
    "count_pos = 0\n",
    "count_neg = 0\n",
    "count_neu = 0\n",
    "for index, row in posts.iterrows():\n",
    "    if row.Sentiment == \"positive\":\n",
    "        count_pos += 1\n",
    "    elif row.Sentiment == \"negative\":\n",
    "        count_neg += 1\n",
    "    elif row.Sentiment == \"neutral\":\n",
    "        count_neu += 1\n",
    "    total += 1\n",
    "\n",
    "print(\"For the submission titles of the posts, \\n\")\n",
    "    \n",
    "print(\"The number of positive sentiments: \" + str(count_pos))\n",
    "print(\"The number of negative sentiments: \" + str(count_neg))\n",
    "print(\"The number of neutral sentiments: \" + str(count_neu))\n",
    "print()\n",
    "\n",
    "print(\"As a percentage of the total: (415!)\\n\")\n",
    "print(str(round(count_pos*100/total, 2)) + \"% of submission titles were positive.\")\n",
    "print(str(round(count_neg*100/total, 2)) + \"% of submission titles were negative.\")\n",
    "print(str(round(count_neu*100/total, 2)) + \"% of submission titles were neutral.\")"
   ]
  },
  {
   "cell_type": "markdown",
   "metadata": {},
   "source": [
    "#### Thoughts on submission title sentiment scores:"
   ]
  },
  {
   "cell_type": "markdown",
   "metadata": {},
   "source": [
    "It was interesting, though not very suprising that that the majority of submission titles were neutral in sentiment.\n",
    "\n",
    "Most popular (top-voted) posts on r/Netflix seem to be news: for example, that so-and-so TV show or movie has been released, or has been renewed for a second season, or the trailer has come out.\n",
    "\n",
    "Therefore, the submission tends to be more informative, and far less opinionated compared to the comments."
   ]
  },
  {
   "cell_type": "markdown",
   "metadata": {},
   "source": [
    "Now, for the comments."
   ]
  },
  {
   "cell_type": "code",
   "execution_count": 119,
   "metadata": {},
   "outputs": [],
   "source": [
    "# Sentiment scores for the comments\n",
    "comments[[\"neg\",\"neu\",\"pos\",\"compound\"]] = comments.Reply.apply(lambda x: pd.Series(sid.polarity_scores(str(x))))"
   ]
  },
  {
   "cell_type": "code",
   "execution_count": 124,
   "metadata": {},
   "outputs": [
    {
     "data": {
      "text/html": [
       "<div>\n",
       "<style scoped>\n",
       "    .dataframe tbody tr th:only-of-type {\n",
       "        vertical-align: middle;\n",
       "    }\n",
       "\n",
       "    .dataframe tbody tr th {\n",
       "        vertical-align: top;\n",
       "    }\n",
       "\n",
       "    .dataframe thead th {\n",
       "        text-align: right;\n",
       "    }\n",
       "</style>\n",
       "<table border=\"1\" class=\"dataframe\">\n",
       "  <thead>\n",
       "    <tr style=\"text-align: right;\">\n",
       "      <th></th>\n",
       "      <th>Reply</th>\n",
       "      <th>Upvote</th>\n",
       "      <th>Time</th>\n",
       "      <th>Key</th>\n",
       "      <th>neg</th>\n",
       "      <th>neu</th>\n",
       "      <th>pos</th>\n",
       "      <th>compound</th>\n",
       "      <th>Sentiment</th>\n",
       "    </tr>\n",
       "  </thead>\n",
       "  <tbody>\n",
       "    <tr>\n",
       "      <th>0</th>\n",
       "      <td>didnt go expecting cinematic masterpiece expec...</td>\n",
       "      <td>2079</td>\n",
       "      <td>2018-01-26 21:23:11</td>\n",
       "      <td>0</td>\n",
       "      <td>0.0</td>\n",
       "      <td>0.728</td>\n",
       "      <td>0.272</td>\n",
       "      <td>0.6249</td>\n",
       "      <td>positive</td>\n",
       "    </tr>\n",
       "    <tr>\n",
       "      <th>1</th>\n",
       "      <td>pretty good solid B Pretty much expected fanta...</td>\n",
       "      <td>1529</td>\n",
       "      <td>2018-01-26 18:59:11</td>\n",
       "      <td>0</td>\n",
       "      <td>0.0</td>\n",
       "      <td>0.423</td>\n",
       "      <td>0.577</td>\n",
       "      <td>0.8720</td>\n",
       "      <td>positive</td>\n",
       "    </tr>\n",
       "    <tr>\n",
       "      <th>2</th>\n",
       "      <td>enjoyed would watch another however change lif...</td>\n",
       "      <td>244</td>\n",
       "      <td>2018-01-27 00:16:08</td>\n",
       "      <td>0</td>\n",
       "      <td>0.0</td>\n",
       "      <td>0.519</td>\n",
       "      <td>0.481</td>\n",
       "      <td>0.7506</td>\n",
       "      <td>positive</td>\n",
       "    </tr>\n",
       "  </tbody>\n",
       "</table>\n",
       "</div>"
      ],
      "text/plain": [
       "                                               Reply  Upvote  \\\n",
       "0  didnt go expecting cinematic masterpiece expec...    2079   \n",
       "1  pretty good solid B Pretty much expected fanta...    1529   \n",
       "2  enjoyed would watch another however change lif...     244   \n",
       "\n",
       "                  Time  Key  neg    neu    pos  compound Sentiment  \n",
       "0  2018-01-26 21:23:11    0  0.0  0.728  0.272    0.6249  positive  \n",
       "1  2018-01-26 18:59:11    0  0.0  0.423  0.577    0.8720  positive  \n",
       "2  2018-01-27 00:16:08    0  0.0  0.519  0.481    0.7506  positive  "
      ]
     },
     "execution_count": 124,
     "metadata": {},
     "output_type": "execute_result"
    }
   ],
   "source": [
    "comments.head(3)"
   ]
  },
  {
   "cell_type": "code",
   "execution_count": 123,
   "metadata": {},
   "outputs": [],
   "source": [
    "# Generating overall sentiment\n",
    "# Positive: compound >= 0.05\n",
    "# Negative: compound <= 0.05\n",
    "# Neutral: in between\n",
    "comments[\"Sentiment\"] = np.where(comments[\"compound\"] >= 0.05, \"positive\", np.where(comments[\"compound\"] <= -0.05, \"negative\", \"neutral\"))"
   ]
  },
  {
   "cell_type": "code",
   "execution_count": 129,
   "metadata": {},
   "outputs": [
    {
     "data": {
      "text/html": [
       "<div>\n",
       "<style scoped>\n",
       "    .dataframe tbody tr th:only-of-type {\n",
       "        vertical-align: middle;\n",
       "    }\n",
       "\n",
       "    .dataframe tbody tr th {\n",
       "        vertical-align: top;\n",
       "    }\n",
       "\n",
       "    .dataframe thead th {\n",
       "        text-align: right;\n",
       "    }\n",
       "</style>\n",
       "<table border=\"1\" class=\"dataframe\">\n",
       "  <thead>\n",
       "    <tr style=\"text-align: right;\">\n",
       "      <th></th>\n",
       "      <th>Reply</th>\n",
       "      <th>neg</th>\n",
       "      <th>neu</th>\n",
       "      <th>pos</th>\n",
       "      <th>compound</th>\n",
       "      <th>Sentiment</th>\n",
       "    </tr>\n",
       "  </thead>\n",
       "  <tbody>\n",
       "    <tr>\n",
       "      <th>0</th>\n",
       "      <td>didnt go expecting cinematic masterpiece expec...</td>\n",
       "      <td>0.000</td>\n",
       "      <td>0.728</td>\n",
       "      <td>0.272</td>\n",
       "      <td>0.6249</td>\n",
       "      <td>positive</td>\n",
       "    </tr>\n",
       "    <tr>\n",
       "      <th>1</th>\n",
       "      <td>pretty good solid B Pretty much expected fanta...</td>\n",
       "      <td>0.000</td>\n",
       "      <td>0.423</td>\n",
       "      <td>0.577</td>\n",
       "      <td>0.8720</td>\n",
       "      <td>positive</td>\n",
       "    </tr>\n",
       "    <tr>\n",
       "      <th>2</th>\n",
       "      <td>enjoyed would watch another however change lif...</td>\n",
       "      <td>0.000</td>\n",
       "      <td>0.519</td>\n",
       "      <td>0.481</td>\n",
       "      <td>0.7506</td>\n",
       "      <td>positive</td>\n",
       "    </tr>\n",
       "    <tr>\n",
       "      <th>3</th>\n",
       "      <td>pretty terrible argument friction watching mov...</td>\n",
       "      <td>0.258</td>\n",
       "      <td>0.518</td>\n",
       "      <td>0.225</td>\n",
       "      <td>-0.5915</td>\n",
       "      <td>negative</td>\n",
       "    </tr>\n",
       "    <tr>\n",
       "      <th>4</th>\n",
       "      <td>Everything great except plot whole modern fair...</td>\n",
       "      <td>0.089</td>\n",
       "      <td>0.613</td>\n",
       "      <td>0.298</td>\n",
       "      <td>0.8901</td>\n",
       "      <td>positive</td>\n",
       "    </tr>\n",
       "    <tr>\n",
       "      <th>...</th>\n",
       "      <td>...</td>\n",
       "      <td>...</td>\n",
       "      <td>...</td>\n",
       "      <td>...</td>\n",
       "      <td>...</td>\n",
       "      <td>...</td>\n",
       "    </tr>\n",
       "    <tr>\n",
       "      <th>57724</th>\n",
       "      <td>think different subchannel BBC subchannel AMC ...</td>\n",
       "      <td>0.031</td>\n",
       "      <td>0.684</td>\n",
       "      <td>0.285</td>\n",
       "      <td>0.9313</td>\n",
       "      <td>positive</td>\n",
       "    </tr>\n",
       "    <tr>\n",
       "      <th>57725</th>\n",
       "      <td>Im sure youre saying first paragraph</td>\n",
       "      <td>0.000</td>\n",
       "      <td>0.685</td>\n",
       "      <td>0.315</td>\n",
       "      <td>0.3182</td>\n",
       "      <td>positive</td>\n",
       "    </tr>\n",
       "    <tr>\n",
       "      <th>57726</th>\n",
       "      <td>Im saying BBC America isnt like Netflix like N...</td>\n",
       "      <td>0.187</td>\n",
       "      <td>0.710</td>\n",
       "      <td>0.102</td>\n",
       "      <td>-0.2311</td>\n",
       "      <td>negative</td>\n",
       "    </tr>\n",
       "    <tr>\n",
       "      <th>57727</th>\n",
       "      <td>BBC America produced coproduced whole bunch or...</td>\n",
       "      <td>0.000</td>\n",
       "      <td>0.694</td>\n",
       "      <td>0.306</td>\n",
       "      <td>0.5267</td>\n",
       "      <td>positive</td>\n",
       "    </tr>\n",
       "    <tr>\n",
       "      <th>57728</th>\n",
       "      <td>Orphan Black Canadian show example like Netfli...</td>\n",
       "      <td>0.121</td>\n",
       "      <td>0.672</td>\n",
       "      <td>0.207</td>\n",
       "      <td>0.4912</td>\n",
       "      <td>positive</td>\n",
       "    </tr>\n",
       "  </tbody>\n",
       "</table>\n",
       "<p>57729 rows × 6 columns</p>\n",
       "</div>"
      ],
      "text/plain": [
       "                                                   Reply    neg    neu    pos  \\\n",
       "0      didnt go expecting cinematic masterpiece expec...  0.000  0.728  0.272   \n",
       "1      pretty good solid B Pretty much expected fanta...  0.000  0.423  0.577   \n",
       "2      enjoyed would watch another however change lif...  0.000  0.519  0.481   \n",
       "3      pretty terrible argument friction watching mov...  0.258  0.518  0.225   \n",
       "4      Everything great except plot whole modern fair...  0.089  0.613  0.298   \n",
       "...                                                  ...    ...    ...    ...   \n",
       "57724  think different subchannel BBC subchannel AMC ...  0.031  0.684  0.285   \n",
       "57725               Im sure youre saying first paragraph  0.000  0.685  0.315   \n",
       "57726  Im saying BBC America isnt like Netflix like N...  0.187  0.710  0.102   \n",
       "57727  BBC America produced coproduced whole bunch or...  0.000  0.694  0.306   \n",
       "57728  Orphan Black Canadian show example like Netfli...  0.121  0.672  0.207   \n",
       "\n",
       "       compound Sentiment  \n",
       "0        0.6249  positive  \n",
       "1        0.8720  positive  \n",
       "2        0.7506  positive  \n",
       "3       -0.5915  negative  \n",
       "4        0.8901  positive  \n",
       "...         ...       ...  \n",
       "57724    0.9313  positive  \n",
       "57725    0.3182  positive  \n",
       "57726   -0.2311  negative  \n",
       "57727    0.5267  positive  \n",
       "57728    0.4912  positive  \n",
       "\n",
       "[57729 rows x 6 columns]"
      ]
     },
     "execution_count": 129,
     "metadata": {},
     "output_type": "execute_result"
    }
   ],
   "source": [
    "comments[[\"Reply\", \"neg\", \"neu\", \"pos\", \"compound\", \"Sentiment\"]]"
   ]
  },
  {
   "cell_type": "code",
   "execution_count": 131,
   "metadata": {},
   "outputs": [
    {
     "name": "stdout",
     "output_type": "stream",
     "text": [
      "For the comments of the posts, \n",
      "\n",
      "The number of positive sentiments: 28812\n",
      "The number of negative sentiments: 14013\n",
      "The number of neutral sentiments: 14904\n",
      "\n",
      "As a percentage of the total: (57729!)\n",
      "\n",
      "49.91% of submission titles were positive.\n",
      "24.27% of submission titles were negative.\n",
      "25.82% of submission titles were neutral.\n"
     ]
    }
   ],
   "source": [
    "total = 0\n",
    "count_pos = 0\n",
    "count_neg = 0\n",
    "count_neu = 0\n",
    "for index, row in comments.iterrows():\n",
    "    if row.Sentiment == \"positive\":\n",
    "        count_pos += 1\n",
    "    elif row.Sentiment == \"negative\":\n",
    "        count_neg += 1\n",
    "    elif row.Sentiment == \"neutral\":\n",
    "        count_neu += 1\n",
    "    total += 1\n",
    "\n",
    "print(\"For the comments of the posts, \\n\")\n",
    "    \n",
    "print(\"The number of positive sentiments: \" + str(count_pos))\n",
    "print(\"The number of negative sentiments: \" + str(count_neg))\n",
    "print(\"The number of neutral sentiments: \" + str(count_neu))\n",
    "print()\n",
    "\n",
    "print(\"As a percentage of the total: (57729!)\\n\")\n",
    "print(str(round(count_pos*100/total, 2)) + \"% of submission titles were positive.\")\n",
    "print(str(round(count_neg*100/total, 2)) + \"% of submission titles were negative.\")\n",
    "print(str(round(count_neu*100/total, 2)) + \"% of submission titles were neutral.\")"
   ]
  },
  {
   "cell_type": "markdown",
   "metadata": {},
   "source": [
    "#### Thoughts on comment sentiment scores:"
   ]
  },
  {
   "cell_type": "markdown",
   "metadata": {},
   "source": [
    "This is perhaps what I expected, for there to be a larger proportion of positive sentiment per comment compared to the more neutral, less opinionated submission titles.\n",
    "\n",
    "However, I did not expect 50% of sentiment to be positive. I had expected generally more, specifically since these were top posts based around a single title - these posts are upvoted and heavily discussed because viewers are interested / invested in the title.\n",
    "\n",
    "It is also of interest to note, that posts centred around a single title are unlike the other top posts, which are normally upvoted heavily because it discusses a contraversial topic - such as the possibility of Netflix bringing in advertisements."
   ]
  },
  {
   "cell_type": "code",
   "execution_count": 133,
   "metadata": {},
   "outputs": [],
   "source": [
    "posts.to_csv(\"Netflix_Posts_Sentiment.csv\", index = False)\n",
    "comments.to_csv(\"Netflix_Comments_Sentiment.csv\", index = False)"
   ]
  },
  {
   "cell_type": "markdown",
   "metadata": {},
   "source": [
    "## 4. Genre"
   ]
  },
  {
   "cell_type": "code",
   "execution_count": 148,
   "metadata": {},
   "outputs": [],
   "source": [
    "posts = pd.read_csv(\"Netflix_Posts_Sentiment.csv\")\n",
    "comments = pd.read_csv(\"Netflix_Comments_Sentiment.csv\")"
   ]
  },
  {
   "cell_type": "code",
   "execution_count": 149,
   "metadata": {},
   "outputs": [],
   "source": [
    "# Renaming posts.Sentiment to \"Submission_Sentiment\"\n",
    "posts[\"Submission_Sentiment\"] = posts[\"Sentiment\"]"
   ]
  },
  {
   "cell_type": "code",
   "execution_count": 150,
   "metadata": {},
   "outputs": [],
   "source": [
    "# Dropping some columns\n",
    "posts.drop(columns = [\"neg\", \"neu\", \"pos\", \"Sentiment\"], inplace = True)"
   ]
  },
  {
   "cell_type": "markdown",
   "metadata": {},
   "source": [
    "Making a comment aggregate compound score for each post (key)."
   ]
  },
  {
   "cell_type": "code",
   "execution_count": 172,
   "metadata": {
    "scrolled": false
   },
   "outputs": [],
   "source": [
    "# Summing up total compound scores for each post (key)\n",
    "comment_aggregate_compound = [0] * len(posts.Submission_Sentiment)\n",
    "\n",
    "count = 0\n",
    "for key in comments[\"Key\"]:\n",
    "    comment_aggregate_compound[key] += comments[\"compound\"][count]\n",
    "    count += 1"
   ]
  },
  {
   "cell_type": "code",
   "execution_count": 179,
   "metadata": {},
   "outputs": [],
   "source": [
    "# Counting up how many comments per post (key)\n",
    "comment_per_post = [0] * len(posts.Submission_Sentiment)\n",
    "\n",
    "keys = comments[\"Key\"].tolist()\n",
    "\n",
    "for key in keys:\n",
    "    comment_per_post[key] += 1"
   ]
  },
  {
   "cell_type": "code",
   "execution_count": 183,
   "metadata": {},
   "outputs": [],
   "source": [
    "# New list for aggregate sentiment\n",
    "comment_aggregate_sentiment = [0] * len(posts.Submission_Sentiment)\n",
    "\n",
    "comment_aggregate_sentiment = [int(b) / int(m) for b,m in zip(comment_aggregate_compound, comment_per_post)]"
   ]
  },
  {
   "cell_type": "code",
   "execution_count": 186,
   "metadata": {},
   "outputs": [],
   "source": [
    "posts[\"Comment_Aggregate_Compound\"] = comment_aggregate_sentiment"
   ]
  },
  {
   "cell_type": "code",
   "execution_count": 189,
   "metadata": {},
   "outputs": [
    {
     "data": {
      "text/html": [
       "<div>\n",
       "<style scoped>\n",
       "    .dataframe tbody tr th:only-of-type {\n",
       "        vertical-align: middle;\n",
       "    }\n",
       "\n",
       "    .dataframe tbody tr th {\n",
       "        vertical-align: top;\n",
       "    }\n",
       "\n",
       "    .dataframe thead th {\n",
       "        text-align: right;\n",
       "    }\n",
       "</style>\n",
       "<table border=\"1\" class=\"dataframe\">\n",
       "  <thead>\n",
       "    <tr style=\"text-align: right;\">\n",
       "      <th></th>\n",
       "      <th>Submission</th>\n",
       "      <th>Netflix_Title</th>\n",
       "      <th>Genres</th>\n",
       "      <th>Body</th>\n",
       "      <th>URL</th>\n",
       "      <th>Upvotes</th>\n",
       "      <th>Time</th>\n",
       "      <th>Key</th>\n",
       "      <th>compound</th>\n",
       "      <th>Submission_Sentiment</th>\n",
       "      <th>Comment_Aggregate_Compound</th>\n",
       "    </tr>\n",
       "  </thead>\n",
       "  <tbody>\n",
       "    <tr>\n",
       "      <th>0</th>\n",
       "      <td>Netflix executive say success proof bad review...</td>\n",
       "      <td>Bright</td>\n",
       "      <td>Action &amp; Adventure, Sci-Fi &amp; Fantasy</td>\n",
       "      <td>NaN</td>\n",
       "      <td>https://www.reddit.com/r/netflix/comments/7t2f...</td>\n",
       "      <td>6802</td>\n",
       "      <td>2018-01-26 18:11:49</td>\n",
       "      <td>0</td>\n",
       "      <td>0.0325</td>\n",
       "      <td>neutral</td>\n",
       "      <td>0.105263</td>\n",
       "    </tr>\n",
       "    <tr>\n",
       "      <th>1</th>\n",
       "      <td>Netflix Fires Kevin Spacey</td>\n",
       "      <td>House of Cards</td>\n",
       "      <td>TV Dramas, TV Thrillers</td>\n",
       "      <td>NaN</td>\n",
       "      <td>https://www.reddit.com/r/netflix/comments/7ao8...</td>\n",
       "      <td>6504</td>\n",
       "      <td>2017-11-04 15:47:43</td>\n",
       "      <td>1</td>\n",
       "      <td>0.0000</td>\n",
       "      <td>neutral</td>\n",
       "      <td>-0.072430</td>\n",
       "    </tr>\n",
       "    <tr>\n",
       "      <th>2</th>\n",
       "      <td>Netflix 3</td>\n",
       "      <td>Cloverfield</td>\n",
       "      <td>Action &amp; Adventure, Horror Movies, Sci-Fi &amp; Fa...</td>\n",
       "      <td>Edit Streaming start post game</td>\n",
       "      <td>https://www.reddit.com/r/netflix/comments/7vav...</td>\n",
       "      <td>5597</td>\n",
       "      <td>2018-02-05 13:23:43</td>\n",
       "      <td>2</td>\n",
       "      <td>0.0000</td>\n",
       "      <td>neutral</td>\n",
       "      <td>0.131818</td>\n",
       "    </tr>\n",
       "    <tr>\n",
       "      <th>3</th>\n",
       "      <td>Netflixs highest rated series</td>\n",
       "      <td>The Witcher</td>\n",
       "      <td>TV Action &amp; Adventure, TV Dramas, TV Mysteries</td>\n",
       "      <td>Obviously still drop couple point likely still...</td>\n",
       "      <td>https://www.reddit.com/r/netflix/comments/eekm...</td>\n",
       "      <td>4891</td>\n",
       "      <td>2019-12-24 02:30:46</td>\n",
       "      <td>3</td>\n",
       "      <td>0.0000</td>\n",
       "      <td>neutral</td>\n",
       "      <td>0.229483</td>\n",
       "    </tr>\n",
       "    <tr>\n",
       "      <th>4</th>\n",
       "      <td>Netflix first Oscar</td>\n",
       "      <td>Icarus</td>\n",
       "      <td>Documentaries, Sports Movies</td>\n",
       "      <td>NaN</td>\n",
       "      <td>https://www.reddit.com/r/netflix/comments/8238...</td>\n",
       "      <td>4632</td>\n",
       "      <td>2018-03-05 17:03:47</td>\n",
       "      <td>4</td>\n",
       "      <td>0.0000</td>\n",
       "      <td>neutral</td>\n",
       "      <td>0.151786</td>\n",
       "    </tr>\n",
       "    <tr>\n",
       "      <th>...</th>\n",
       "      <td>...</td>\n",
       "      <td>...</td>\n",
       "      <td>...</td>\n",
       "      <td>...</td>\n",
       "      <td>...</td>\n",
       "      <td>...</td>\n",
       "      <td>...</td>\n",
       "      <td>...</td>\n",
       "      <td>...</td>\n",
       "      <td>...</td>\n",
       "      <td>...</td>\n",
       "    </tr>\n",
       "    <tr>\n",
       "      <th>410</th>\n",
       "      <td>season 2 premiere May 12</td>\n",
       "      <td>Master of None</td>\n",
       "      <td>TV Comedies</td>\n",
       "      <td>NaN</td>\n",
       "      <td>https://www.reddit.com/r/netflix/comments/5zkl...</td>\n",
       "      <td>631</td>\n",
       "      <td>2017-03-16 06:03:06</td>\n",
       "      <td>410</td>\n",
       "      <td>0.0000</td>\n",
       "      <td>neutral</td>\n",
       "      <td>0.347826</td>\n",
       "    </tr>\n",
       "    <tr>\n",
       "      <th>411</th>\n",
       "      <td>Season 4 Official Trailer HD Netflix</td>\n",
       "      <td>BoJack Horseman</td>\n",
       "      <td>TV Comedies</td>\n",
       "      <td>NaN</td>\n",
       "      <td>https://www.reddit.com/r/netflix/comments/6vri...</td>\n",
       "      <td>627</td>\n",
       "      <td>2017-08-25 03:15:41</td>\n",
       "      <td>411</td>\n",
       "      <td>0.0000</td>\n",
       "      <td>neutral</td>\n",
       "      <td>0.219512</td>\n",
       "    </tr>\n",
       "    <tr>\n",
       "      <th>412</th>\n",
       "      <td>final season coming November 2</td>\n",
       "      <td>House of Cards</td>\n",
       "      <td>TV Dramas, TV Thrillers</td>\n",
       "      <td>NaN</td>\n",
       "      <td>https://www.reddit.com/r/netflix/comments/95c0...</td>\n",
       "      <td>624</td>\n",
       "      <td>2018-08-08 02:15:57</td>\n",
       "      <td>412</td>\n",
       "      <td>0.0000</td>\n",
       "      <td>neutral</td>\n",
       "      <td>0.036765</td>\n",
       "    </tr>\n",
       "    <tr>\n",
       "      <th>413</th>\n",
       "      <td>Striking Vipers Official Trailer</td>\n",
       "      <td>Black Mirror</td>\n",
       "      <td>British TV Shows, International TV Shows, TV D...</td>\n",
       "      <td>NaN</td>\n",
       "      <td>https://www.reddit.com/r/netflix/comments/brbc...</td>\n",
       "      <td>622</td>\n",
       "      <td>2019-05-22 02:52:45</td>\n",
       "      <td>413</td>\n",
       "      <td>0.0000</td>\n",
       "      <td>neutral</td>\n",
       "      <td>0.111111</td>\n",
       "    </tr>\n",
       "    <tr>\n",
       "      <th>414</th>\n",
       "      <td>Dirk Gently like meet Legion Doctor dash Fargo...</td>\n",
       "      <td>Sherlock</td>\n",
       "      <td>British TV Shows, Crime TV Shows, Internationa...</td>\n",
       "      <td>Dirk Gently one show watch fall love even canc...</td>\n",
       "      <td>https://www.reddit.com/r/netflix/comments/7yep...</td>\n",
       "      <td>622</td>\n",
       "      <td>2018-02-19 03:57:50</td>\n",
       "      <td>414</td>\n",
       "      <td>0.5252</td>\n",
       "      <td>positive</td>\n",
       "      <td>0.358491</td>\n",
       "    </tr>\n",
       "  </tbody>\n",
       "</table>\n",
       "<p>415 rows × 11 columns</p>\n",
       "</div>"
      ],
      "text/plain": [
       "                                            Submission    Netflix_Title  \\\n",
       "0    Netflix executive say success proof bad review...           Bright   \n",
       "1                           Netflix Fires Kevin Spacey   House of Cards   \n",
       "2                                            Netflix 3      Cloverfield   \n",
       "3                        Netflixs highest rated series      The Witcher   \n",
       "4                                  Netflix first Oscar           Icarus   \n",
       "..                                                 ...              ...   \n",
       "410                           season 2 premiere May 12   Master of None   \n",
       "411               Season 4 Official Trailer HD Netflix  BoJack Horseman   \n",
       "412                     final season coming November 2   House of Cards   \n",
       "413                   Striking Vipers Official Trailer     Black Mirror   \n",
       "414  Dirk Gently like meet Legion Doctor dash Fargo...         Sherlock   \n",
       "\n",
       "                                                Genres  \\\n",
       "0                 Action & Adventure, Sci-Fi & Fantasy   \n",
       "1                              TV Dramas, TV Thrillers   \n",
       "2    Action & Adventure, Horror Movies, Sci-Fi & Fa...   \n",
       "3       TV Action & Adventure, TV Dramas, TV Mysteries   \n",
       "4                         Documentaries, Sports Movies   \n",
       "..                                                 ...   \n",
       "410                                        TV Comedies   \n",
       "411                                        TV Comedies   \n",
       "412                            TV Dramas, TV Thrillers   \n",
       "413  British TV Shows, International TV Shows, TV D...   \n",
       "414  British TV Shows, Crime TV Shows, Internationa...   \n",
       "\n",
       "                                                  Body  \\\n",
       "0                                                  NaN   \n",
       "1                                                  NaN   \n",
       "2                       Edit Streaming start post game   \n",
       "3    Obviously still drop couple point likely still...   \n",
       "4                                                  NaN   \n",
       "..                                                 ...   \n",
       "410                                                NaN   \n",
       "411                                                NaN   \n",
       "412                                                NaN   \n",
       "413                                                NaN   \n",
       "414  Dirk Gently one show watch fall love even canc...   \n",
       "\n",
       "                                                   URL  Upvotes  \\\n",
       "0    https://www.reddit.com/r/netflix/comments/7t2f...     6802   \n",
       "1    https://www.reddit.com/r/netflix/comments/7ao8...     6504   \n",
       "2    https://www.reddit.com/r/netflix/comments/7vav...     5597   \n",
       "3    https://www.reddit.com/r/netflix/comments/eekm...     4891   \n",
       "4    https://www.reddit.com/r/netflix/comments/8238...     4632   \n",
       "..                                                 ...      ...   \n",
       "410  https://www.reddit.com/r/netflix/comments/5zkl...      631   \n",
       "411  https://www.reddit.com/r/netflix/comments/6vri...      627   \n",
       "412  https://www.reddit.com/r/netflix/comments/95c0...      624   \n",
       "413  https://www.reddit.com/r/netflix/comments/brbc...      622   \n",
       "414  https://www.reddit.com/r/netflix/comments/7yep...      622   \n",
       "\n",
       "                    Time  Key  compound Submission_Sentiment  \\\n",
       "0    2018-01-26 18:11:49    0    0.0325              neutral   \n",
       "1    2017-11-04 15:47:43    1    0.0000              neutral   \n",
       "2    2018-02-05 13:23:43    2    0.0000              neutral   \n",
       "3    2019-12-24 02:30:46    3    0.0000              neutral   \n",
       "4    2018-03-05 17:03:47    4    0.0000              neutral   \n",
       "..                   ...  ...       ...                  ...   \n",
       "410  2017-03-16 06:03:06  410    0.0000              neutral   \n",
       "411  2017-08-25 03:15:41  411    0.0000              neutral   \n",
       "412  2018-08-08 02:15:57  412    0.0000              neutral   \n",
       "413  2019-05-22 02:52:45  413    0.0000              neutral   \n",
       "414  2018-02-19 03:57:50  414    0.5252             positive   \n",
       "\n",
       "     Comment_Aggregate_Compound  \n",
       "0                      0.105263  \n",
       "1                     -0.072430  \n",
       "2                      0.131818  \n",
       "3                      0.229483  \n",
       "4                      0.151786  \n",
       "..                          ...  \n",
       "410                    0.347826  \n",
       "411                    0.219512  \n",
       "412                    0.036765  \n",
       "413                    0.111111  \n",
       "414                    0.358491  \n",
       "\n",
       "[415 rows x 11 columns]"
      ]
     },
     "execution_count": 189,
     "metadata": {},
     "output_type": "execute_result"
    }
   ],
   "source": [
    "posts"
   ]
  },
  {
   "cell_type": "markdown",
   "metadata": {},
   "source": [
    "#### Sadly, I was not able to finish on time, for aggregate comment sentiment, as well as analysing by Genre."
   ]
  },
  {
   "cell_type": "markdown",
   "metadata": {},
   "source": [
    "## 5. Problems I faced"
   ]
  },
  {
   "cell_type": "markdown",
   "metadata": {},
   "source": [
    "Sentiment analysis is far too subjective when it comes to humans. Often times we can make statements that, after considering the traditionally positive/negative terms, are actually presented with the opposite sentiment in mind. The context of a post/comment a highly important factor in determining true sentiment.\n",
    "\n",
    "For example, reddit users use an /s to denote sarcasm (something that should be obvious depending on the context, not obvious in a sentiment analysis process).\n",
    "\n",
    "Also, certain statements like: “We should build a wall to protect Americans from Mexicans trying to enter across the border. This will be viewed as a positive and helpful statement by some people, and for others this will be a negative and terrifying proposition."
   ]
  },
  {
   "cell_type": "markdown",
   "metadata": {},
   "source": [
    "## 6. Other considerations"
   ]
  },
  {
   "cell_type": "markdown",
   "metadata": {},
   "source": [
    "Another use of sentiment analysis for Netflix I thought about was to gauge sentiments on new changes to the platform that Netflix was thinking of making, and before making that change they could look first to the Reddit community to see their sentiment on such proposals effectively gauging their reaction before the change is even made. For example, if Netflix was considering to add commercials and advertisements to their streaming platform, they can filter posts and comments by keywords such as commercials, ads, advertisements, and can get a good sentiment read on it."
   ]
  },
  {
   "cell_type": "code",
   "execution_count": null,
   "metadata": {},
   "outputs": [],
   "source": []
  }
 ],
 "metadata": {
  "kernelspec": {
   "display_name": "Python 3",
   "language": "python",
   "name": "python3"
  },
  "language_info": {
   "codemirror_mode": {
    "name": "ipython",
    "version": 3
   },
   "file_extension": ".py",
   "mimetype": "text/x-python",
   "name": "python",
   "nbconvert_exporter": "python",
   "pygments_lexer": "ipython3",
   "version": "3.8.3"
  }
 },
 "nbformat": 4,
 "nbformat_minor": 4
}
